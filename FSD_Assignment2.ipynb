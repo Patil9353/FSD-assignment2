{
  "nbformat": 4,
  "nbformat_minor": 0,
  "metadata": {
    "colab": {
      "provenance": []
    },
    "kernelspec": {
      "name": "python3",
      "display_name": "Python 3"
    },
    "language_info": {
      "name": "python"
    }
  },
  "cells": [
    {
      "cell_type": "code",
      "execution_count": null,
      "metadata": {
        "id": "tHwLsZrbZsA7"
      },
      "outputs": [],
      "source": []
    },
    {
      "cell_type": "markdown",
      "source": [
        "FSD Assignment2"
      ],
      "metadata": {
        "id": "QXKOZbxJZ_Dp"
      }
    },
    {
      "cell_type": "markdown",
      "source": [
        "1. Write a simple program in HTML  that displays the heading \"HTML defines the content and structure of your website” on the web browser?"
      ],
      "metadata": {
        "id": "hrYZdpjYaEba"
      }
    },
    {
      "cell_type": "code",
      "source": [
        "<!DOCTYPE html>\n",
        "<html>\n",
        "<body>\n",
        "<h1>HTML defines the content and structure of your website</h1>\n",
        "</body>\n",
        "</html>"
      ],
      "metadata": {
        "id": "OV0H348SaO4Y"
      },
      "execution_count": null,
      "outputs": []
    },
    {
      "cell_type": "markdown",
      "source": [
        "2. Explain the purpose of comments in HTML and provide an example of how to use comments in an HTML document.\n",
        "--> Comments in HTML are used to add notes within the code, making it easier for developers to understand the structure and functionality. These comments do not appear on the web page when viewed in a browser.\n",
        "\n"
      ],
      "metadata": {
        "id": "3FqrI8PtaeBX"
      }
    },
    {
      "cell_type": "code",
      "source": [
        "Example(comments)\n",
        "<!DOCTYPE html>\n",
        "<html>\n",
        "<head>\n",
        "      <title>comment exmaple</title>\n",
        "</head>\n",
        "<body>\n",
        "<!--This is a comment and will not be displayed on the webpage-->\n",
        "<h1>Welcome to my website<h1>\n",
        "<!-- Comments help developers understand the code structure -->\n",
        "<h1>This is a simple paraghraph<h1>\n",
        "</body>\n",
        "</html>\n",
        "\n"
      ],
      "metadata": {
        "id": "EO_J24lOa985"
      },
      "execution_count": null,
      "outputs": []
    },
    {
      "cell_type": "markdown",
      "source": [
        "3. Write an HTML program that includes a heading, a paragraph of text, a horizontal line, and a line break.Arrange these elements to create a simple web page layout."
      ],
      "metadata": {
        "id": "TnDf94PecAq9"
      }
    },
    {
      "cell_type": "code",
      "source": [
        "<!DOCTYPE html>\n",
        "<html>\n",
        "<head>\n",
        "      <title>Simple Webpage</title>\n",
        "</head>\n",
        "<body>\n",
        "<h1>Welcome to my website<h1>\n",
        "<hr>   <!--Horizontal line-->\n",
        "<p>This is a simple paragraph of text.</p>\n",
        "<br>   <!--Line break-->\n",
        "<p>This is a line break.</p>\n",
        "</body>\n",
        "</html>"
      ],
      "metadata": {
        "id": "59-vVjnEcaNC"
      },
      "execution_count": null,
      "outputs": []
    },
    {
      "cell_type": "markdown",
      "source": [
        "4.Write a short note on Tag and element with an example?\n",
        "-->Tag: A tag is a part of HTML syntax enclosed in angle brackets (<>). It defines the beginning and end of an element.\n",
        "\n",
        "Element: An element consists of a start tag, content, and an end tag. Some elements, like <br>, are self-closing."
      ],
      "metadata": {
        "id": "YTSkX7ZmdcXK"
      }
    },
    {
      "cell_type": "code",
      "source": [
        "Exmaple:\n",
        "<p>This is a paragraph.</p>\n",
        "\n",
        "<p> is the opening tag.\n",
        "\n",
        "This is a paragraph. is the content.\n",
        "\n",
        "</p> is the closing tag.\n",
        "\n",
        "The entire structure (<p>...</p>) forms an HTML element.\n",
        "\n"
      ],
      "metadata": {
        "id": "rDXGRWOIdrkV"
      },
      "execution_count": null,
      "outputs": []
    },
    {
      "cell_type": "markdown",
      "source": [
        "5.What is the DOCTYPE Declaration in HTML?"
      ],
      "metadata": {
        "id": "-uxlJ_ZBeCIz"
      }
    },
    {
      "cell_type": "markdown",
      "source": [
        "The <!DOCTYPE> declaration defines the document type and version of HTML. It ensures the browser renders the page correctly."
      ],
      "metadata": {
        "id": "UU6W-9OZeJPi"
      }
    },
    {
      "cell_type": "code",
      "source": [
        "<!DOCTYPE html>\n",
        "<html>\n",
        "<head>\n",
        "    <title>My Page</title>\n",
        "</head>\n",
        "<body>\n",
        "    <h1>Hello, World!</h1>\n",
        "</body>\n",
        "</html>\n"
      ],
      "metadata": {
        "id": "p_8_GzsPeNPB"
      },
      "execution_count": null,
      "outputs": []
    }
  ]
}